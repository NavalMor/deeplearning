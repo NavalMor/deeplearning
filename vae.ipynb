{
 "cells": [
  {
   "cell_type": "markdown",
   "metadata": {},
   "source": [
    "## Import modules"
   ]
  },
  {
   "cell_type": "code",
   "execution_count": 271,
   "metadata": {},
   "outputs": [],
   "source": [
    "import torch\n",
    "from torch import nn, optim\n",
    "import torchvision\n",
    "from torchvision import datasets, transforms\n",
    "from torch.utils.data import DataLoader, SubsetRandomSampler\n",
    "import matplotlib.pyplot as plt\n",
    "import collections"
   ]
  },
  {
   "cell_type": "markdown",
   "metadata": {},
   "source": [
    "## Download train/test data"
   ]
  },
  {
   "cell_type": "code",
   "execution_count": 2,
   "metadata": {},
   "outputs": [],
   "source": [
    "train_data = datasets.MNIST(root='data',\n",
    "                      train=True,\n",
    "                      download=True,\n",
    "                      transform=transforms.ToTensor())\n",
    "test_data = datasets.MNIST(root='data',\n",
    "                      train=False,\n",
    "                      download=True,\n",
    "                      transform=transforms.ToTensor())"
   ]
  },
  {
   "cell_type": "markdown",
   "metadata": {},
   "source": [
    "## Create dataloader"
   ]
  },
  {
   "cell_type": "code",
   "execution_count": 3,
   "metadata": {},
   "outputs": [],
   "source": [
    "train_dataloader = DataLoader(dataset=train_data,\n",
    "                              batch_size=64,\n",
    "                              shuffle=True)\n",
    "test_dataloader = DataLoader(dataset=test_data,\n",
    "                              batch_size=64,\n",
    "                              shuffle=False)"
   ]
  },
  {
   "cell_type": "markdown",
   "metadata": {},
   "source": [
    "## Build model"
   ]
  },
  {
   "cell_type": "code",
   "execution_count": 5,
   "metadata": {},
   "outputs": [],
   "source": [
    "class VAE(nn.Module):\n",
    "    def __init__(self,\n",
    "                 in_channel :int):\n",
    "        super().__init__()\n",
    "\n",
    "        self.encoder = nn.Sequential(          #-----> input size : (1, 1, 28, 28)\n",
    "            nn.Conv2d(in_channels=in_channel,\n",
    "                      out_channels=32,\n",
    "                      kernel_size=3,\n",
    "                      stride=1,\n",
    "                      padding=1),              #-----> (1, 32, 28, 28)\n",
    "            nn.ReLU(),\n",
    "            nn.Conv2d(in_channels=32,\n",
    "                      out_channels=64,\n",
    "                      kernel_size=3,\n",
    "                      stride=2,\n",
    "                      padding=1),              #-----> (1, 64, 14, 14)\n",
    "            nn.ReLU(),\n",
    "            nn.Conv2d(in_channels=64,\n",
    "                      out_channels=64,\n",
    "                      kernel_size=3,\n",
    "                      stride=2,\n",
    "                      padding=1),              #-----> (1, 64, 7, 7)\n",
    "            nn.ReLU(),\n",
    "            nn.Conv2d(in_channels=64,\n",
    "                      out_channels=64,\n",
    "                      kernel_size=3,\n",
    "                      stride=1,\n",
    "                      padding=1),              #-----> (1, 64, 7, 7)\n",
    "            nn.ReLU(),\n",
    "            nn.Flatten()                       #-----> (1, 3136)\n",
    "        )\n",
    "\n",
    "        self.mu = nn.Linear(in_features=3136,\n",
    "                            out_features=2)\n",
    "        self.sigma = nn.Linear(in_features=3136,\n",
    "                               out_features=2)\n",
    "\n",
    "        self.decoder = nn.Sequential(\n",
    "            nn.Linear(in_features=2,\n",
    "                      out_features=3136),               #------>(1, 3136)\n",
    "            nn.Unflatten(dim=1,\n",
    "                         unflattened_size=(64, 7, 7)),     #------->(1, 64, 7, 7)\n",
    "            nn.ConvTranspose2d(in_channels=64,\n",
    "                      out_channels=64,\n",
    "                      kernel_size=3,\n",
    "                      stride=1,\n",
    "                      padding=1,\n",
    "                      output_padding=0),                 #-------->(1, 64, 7, 7)\n",
    "            nn.ReLU(),\n",
    "            nn.ConvTranspose2d(in_channels=64,\n",
    "                      out_channels=64,\n",
    "                      kernel_size=3,\n",
    "                      stride=2,\n",
    "                      padding=1,\n",
    "                      output_padding=1),              #-----> (1, 64, 14, 14)\n",
    "            nn.ReLU(),\n",
    "            nn.ConvTranspose2d(in_channels=64,\n",
    "                      out_channels=32,\n",
    "                      kernel_size=3,\n",
    "                      stride=2,\n",
    "                      padding=1,\n",
    "                      output_padding=1),              #-----> (1, 32, 28, 28)\n",
    "            nn.ReLU(),\n",
    "            nn.ConvTranspose2d(in_channels=32,\n",
    "                      out_channels=1,\n",
    "                      kernel_size=3,\n",
    "                      stride=1,\n",
    "                      padding=1,\n",
    "                      output_padding=0),           #-----------> (1, 1, 28, 28)\n",
    "            nn.Sigmoid()\n",
    "        )\n",
    "\n",
    "    def reparemeterization_trick(self, mu, sigma):\n",
    "         std = torch.exp(0.5*sigma)\n",
    "         eps = torch.randn_like(std)\n",
    "         z = mu + eps*std\n",
    "         return z\n",
    "    \n",
    "    def encode(self, X : torch.Tensor):\n",
    "         mu = self.mu(self.encoder(X))\n",
    "         sigma = self.sigma(self.encoder(X))\n",
    "         z = self.reparemeterization_trick(mu, sigma)\n",
    "         return mu, sigma, z\n",
    "    \n",
    "    def decode(self, z : torch.Tensor):\n",
    "         return self.decoder(z)\n",
    "             \n",
    "    def forward(self,\n",
    "                X :torch.Tensor):\n",
    "          mu, sigma, z = self.encode(X)\n",
    "          decoded = self.decode(z)\n",
    "          return decoded, mu, sigma, z"
   ]
  },
  {
   "cell_type": "markdown",
   "metadata": {},
   "source": [
    "## Define model"
   ]
  },
  {
   "cell_type": "code",
   "execution_count": 6,
   "metadata": {},
   "outputs": [],
   "source": [
    "model = VAE(in_channel=1)"
   ]
  },
  {
   "cell_type": "markdown",
   "metadata": {},
   "source": [
    "\n",
    "## Define loss function and optimizer"
   ]
  },
  {
   "cell_type": "code",
   "execution_count": 7,
   "metadata": {},
   "outputs": [
    {
     "data": {
      "text/plain": [
       "tensor(10430.1064, grad_fn=<AddBackward0>)"
      ]
     },
     "execution_count": 7,
     "metadata": {},
     "output_type": "execute_result"
    }
   ],
   "source": [
    "optimizer = torch.optim.Adam(params=model.parameters(),\n",
    "                             lr=0.001)\n",
    "\n",
    "def loss_fn(reconstructed, X, mu, sigma):\n",
    "    MSE = nn.functional.mse_loss(reconstructed, X, reduction='sum')\n",
    "    KLD = -0.5 * torch.sum(1 + sigma - mu**2 - torch.exp(sigma))\n",
    "    loss = MSE + KLD\n",
    "    return loss\n",
    "\n",
    "decoded, mu, sigma, z = model(x)\n",
    "loss_fn(decoded, x, mu, sigma)"
   ]
  },
  {
   "cell_type": "markdown",
   "metadata": {},
   "source": [
    "## Define train/evaluation function"
   ]
  },
  {
   "cell_type": "code",
   "execution_count": 9,
   "metadata": {},
   "outputs": [],
   "source": [
    "def train(model :nn.Module,\n",
    "          loss_fn :nn.functional,\n",
    "          optimizer :torch.optim,\n",
    "          data :torch.Tensor):\n",
    "    model.train()\n",
    "    train_loss = 0\n",
    "    for X_train,_ in data:\n",
    "        optimizer.zero_grad()\n",
    "        decode, mu, sigma, z = model(X_train)\n",
    "        loss_train = loss_fn(decode, X_train, mu, sigma)\n",
    "        loss_train.backward()\n",
    "        optimizer.step()\n",
    "        train_loss += loss_train\n",
    "    train_loss /= len(train_dataloader)\n",
    "    return train_loss\n",
    "\n",
    "def eval(model :nn.Module,\n",
    "         loss_fn :nn.functional,\n",
    "         data :torch.Tensor):\n",
    "    model.eval()\n",
    "    with torch.inference_mode():\n",
    "        test_loss = 0\n",
    "        for X_test,_ in test_dataloader:\n",
    "            decode, mu, sigma, z = model(X_test)\n",
    "            test_loss += loss_fn(decode, X_test, mu, sigma) \n",
    "        test_loss /= len(test_dataloader)\n",
    "    return test_loss"
   ]
  },
  {
   "cell_type": "markdown",
   "metadata": {},
   "source": [
    "## Train model"
   ]
  },
  {
   "cell_type": "code",
   "execution_count": 31,
   "metadata": {},
   "outputs": [
    {
     "name": "stdout",
     "output_type": "stream",
     "text": [
      "Epoch : 1 | Train_loss : 2204.929 | Test_loss : 2269.011\n",
      "Epoch : 2 | Train_loss : 2202.481 | Test_loss : 2260.424\n",
      "Epoch : 3 | Train_loss : 2202.647 | Test_loss : 2253.193\n",
      "Epoch : 4 | Train_loss : 2203.665 | Test_loss : 2256.094\n",
      "Epoch : 5 | Train_loss : 2202.074 | Test_loss : 2260.245\n",
      "Epoch : 6 | Train_loss : 2201.569 | Test_loss : 2255.542\n",
      "Epoch : 7 | Train_loss : 2198.645 | Test_loss : 2250.252\n",
      "Epoch : 8 | Train_loss : 2199.399 | Test_loss : 2264.042\n",
      "Epoch : 9 | Train_loss : 2200.300 | Test_loss : 2248.783\n",
      "Epoch : 10 | Train_loss : 2198.653 | Test_loss : 2251.523\n"
     ]
    }
   ],
   "source": [
    "epochs = 10\n",
    "for epoch in range(1, epochs+1):\n",
    "    train_loss = train(model=model,\n",
    "                       loss_fn=loss_fn,\n",
    "                       optimizer=optimizer,\n",
    "                       data=train_dataloader)\n",
    "    test_loss = eval(model=model,\n",
    "                     loss_fn=loss_fn,\n",
    "                     data=test_dataloader)\n",
    "    print(f\"Epoch : {epoch} | Train_loss : {train_loss :.3f} | Test_loss : {test_loss :.3f}\")"
   ]
  },
  {
   "cell_type": "markdown",
   "metadata": {},
   "source": [
    "## Visualize latent space"
   ]
  },
  {
   "cell_type": "code",
   "execution_count": 153,
   "metadata": {},
   "outputs": [],
   "source": [
    "class LatentSpace():\n",
    "    def __init__(self,\n",
    "                 model :nn.Module,\n",
    "                 data :torch.Tensor):\n",
    "        self.model = model\n",
    "        self.data = data\n",
    "\n",
    "    def latent_values(self):\n",
    "        latent_values_unsorted = {}\n",
    "        with torch.inference_mode():\n",
    "            for X,y in self.data:\n",
    "                decode, mu, logvar, z = self.model(X.unsqueeze(0))\n",
    "                if f'z{y}' in latent_values_unsorted.keys():\n",
    "                    latent_values_unsorted[f'z{y}'][0].append(z[0][0])\n",
    "                    latent_values_unsorted[f'z{y}'][1].append(z[0][1])\n",
    "                else:\n",
    "                    latent_values_unsorted[f'z{y}'] = [[], []]\n",
    "                    latent_values_unsorted[f'z{y}'][0].append(z[0][0])\n",
    "                    latent_values_unsorted[f'z{y}'][1].append(z[0][1])\n",
    "        keys = sorted(latent_values_unsorted)\n",
    "        latent_values = {}\n",
    "        for i in keys:\n",
    "            latent_values[i] = latent_values_unsorted[i]\n",
    "\n",
    "        return latent_values\n",
    "    \n",
    "    def data_matrix(self):\n",
    "        matrix = torch.zeros(len(self.data), 2)\n",
    "        with torch.inference_mode():\n",
    "            for i, (X,y) in enumerate(self.data):\n",
    "                decode, mu, logvar, z = self.model(X.unsqueeze(0))\n",
    "                matrix[i][0] = z[0][0].item()\n",
    "                matrix[i][1] = z[0][1].item()\n",
    "        return matrix\n",
    "    \n",
    "    def plot_latent_space(self):\n",
    "        latent_space = self.latent_values()\n",
    "        plt.figure(figsize=(5, 5))\n",
    "        plt.title('2D Latent Space')\n",
    "        plt.xlabel('z_1')\n",
    "        plt.ylabel('z_2')\n",
    "        for z_values in latent_space:\n",
    "            plt.scatter(latent_space[z_values][0], latent_space[z_values][1], label=z_values)\n",
    "        plt.legend(prop={'size':8})\n",
    "        plt.show()\n",
    "    \n",
    "\n",
    "\n",
    "latent = LatentSpace(model=model,\n",
    "                     data=test_data)\n"
   ]
  },
  {
   "cell_type": "code",
   "execution_count": 196,
   "metadata": {},
   "outputs": [
    {
     "data": {
      "image/png": "[encoded data removed]",
      "text/plain": [
       "<Figure size 500x500 with 1 Axes>"
      ]
     },
     "metadata": {},
     "output_type": "display_data"
    }
   ],
   "source": [
    "latent.plot_latent_space()"
   ]
  },
  {
   "cell_type": "code",
   "execution_count": 272,
   "metadata": {},
   "outputs": [],
   "source": [
    "torch.jit.script(model).save('vae.pt')"
   ]
  }
 ],
 "metadata": {
  "kernelspec": {
   "display_name": "Python 3",
   "language": "python",
   "name": "python3"
  },
  "language_info": {
   "codemirror_mode": {
    "name": "ipython",
    "version": 3
   },
   "file_extension": ".py",
   "mimetype": "text/x-python",
   "name": "python",
   "nbconvert_exporter": "python",
   "pygments_lexer": "ipython3",
   "version": "3.10.8"
  }
 },
 "nbformat": 4,
 "nbformat_minor": 2
}
