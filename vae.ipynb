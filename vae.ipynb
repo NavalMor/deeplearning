{
 "cells": [
  {
   "cell_type": "code",
   "execution_count": 37,
   "metadata": {},
   "outputs": [],
   "source": [
    "import torch\n",
    "from torch import nn\n",
    "import torchvision\n",
    "from torchvision import datasets, transforms\n",
    "from torch.utils.data import DataLoader\n",
    "import matplotlib.pyplot as plt"
   ]
  },
  {
   "cell_type": "code",
   "execution_count": 38,
   "metadata": {},
   "outputs": [],
   "source": [
    "data = datasets.MNIST(root='/Users/navalmor/Desktop/Image Recognition/data',\n",
    "                      train=True,\n",
    "                      download=True,\n",
    "                      transform=transforms.ToTensor())"
   ]
  },
  {
   "cell_type": "code",
   "execution_count": 39,
   "metadata": {},
   "outputs": [],
   "source": [
    "data_loader = DataLoader(dataset=data,\n",
    "                         batch_size=50,\n",
    "                         shuffle=True)"
   ]
  },
  {
   "cell_type": "code",
   "execution_count": 40,
   "metadata": {},
   "outputs": [
    {
     "data": {
      "text/plain": [
       "<torch.utils.data.dataloader.DataLoader at 0x150b6d900>"
      ]
     },
     "execution_count": 40,
     "metadata": {},
     "output_type": "execute_result"
    }
   ],
   "source": [
    "data_loader"
   ]
  },
  {
   "cell_type": "code",
   "execution_count": 41,
   "metadata": {},
   "outputs": [],
   "source": [
    "class VAE(nn.Module):\n",
    "    def __init__(self,\n",
    "                 in_channel :int):\n",
    "        super().__init__()\n",
    "\n",
    "        self.encoder = nn.Sequential(          #-----> input size : (1, 1, 28, 28)\n",
    "            nn.Conv2d(in_channels=in_channel,\n",
    "                      out_channels=32,\n",
    "                      kernel_size=3,\n",
    "                      stride=1,\n",
    "                      padding=1),              #-----> (1, 32, 28, 28)\n",
    "            nn.ReLU(),\n",
    "            nn.Conv2d(in_channels=32,\n",
    "                      out_channels=64,\n",
    "                      kernel_size=3,\n",
    "                      stride=2,\n",
    "                      padding=1),              #-----> (1, 64, 14, 14)\n",
    "            nn.ReLU(),\n",
    "            nn.Conv2d(in_channels=64,\n",
    "                      out_channels=64,\n",
    "                      kernel_size=3,\n",
    "                      stride=2,\n",
    "                      padding=1),              #-----> (1, 64, 7, 7)\n",
    "            nn.ReLU(),\n",
    "            nn.Conv2d(in_channels=64,\n",
    "                      out_channels=64,\n",
    "                      kernel_size=3,\n",
    "                      stride=1,\n",
    "                      padding=1),              #-----> (1, 64, 7, 7)\n",
    "            nn.ReLU(),\n",
    "            nn.Flatten()                       #-----> (1, 3136)\n",
    "        )\n",
    "\n",
    "        self.mu = nn.Linear(in_features=3136,\n",
    "                            out_features=2)\n",
    "        self.sigma = nn.Linear(in_features=3136,\n",
    "                               out_features=2)\n",
    "\n",
    "        self.decoder = nn.Sequential(\n",
    "            nn.Linear(in_features=2,\n",
    "                      out_features=3136),               #------>(1, 3136)\n",
    "            nn.Unflatten(dim=1,\n",
    "                         unflattened_size=(64, 7, 7)),     #------->(1, 64, 7, 7)\n",
    "            nn.ConvTranspose2d(in_channels=64,\n",
    "                      out_channels=64,\n",
    "                      kernel_size=3,\n",
    "                      stride=1,\n",
    "                      padding=1,\n",
    "                      output_padding=0),                 #-------->(1, 64, 7, 7)\n",
    "            nn.ReLU(),\n",
    "            nn.ConvTranspose2d(in_channels=64,\n",
    "                      out_channels=64,\n",
    "                      kernel_size=3,\n",
    "                      stride=2,\n",
    "                      padding=1,\n",
    "                      output_padding=1),              #-----> (1, 64, 14, 14)\n",
    "            nn.ReLU(),\n",
    "            nn.ConvTranspose2d(in_channels=64,\n",
    "                      out_channels=32,\n",
    "                      kernel_size=3,\n",
    "                      stride=2,\n",
    "                      padding=1,\n",
    "                      output_padding=1),              #-----> (1, 32, 28, 28)\n",
    "            nn.ReLU(),\n",
    "            nn.ConvTranspose2d(in_channels=32,\n",
    "                      out_channels=1,\n",
    "                      kernel_size=3,\n",
    "                      stride=1,\n",
    "                      padding=1,\n",
    "                      output_padding=0),           #-----------> (1, 1, 28, 28)\n",
    "            nn.ReLU(),\n",
    "            nn.Sigmoid()\n",
    "        )\n",
    "\n",
    "    def reparemeterization_trick(self, mu, sigma):\n",
    "         eps = torch.randn(mu.shape[0], sigma.shape[1])\n",
    "         z = mu + eps * sigma\n",
    "         return z\n",
    "             \n",
    "\n",
    "    def forward(self,\n",
    "                X :torch.Tensor):\n",
    "          encode = self.encoder(X)\n",
    "          mu = self.mu(encode)\n",
    "          sigma = self.sigma(encode)\n",
    "          z = self.reparemeterization_trick(mu, sigma)\n",
    "          decode = self.decoder(z)\n",
    "          return encode, mu, sigma, z, decode"
   ]
  },
  {
   "cell_type": "code",
   "execution_count": 42,
   "metadata": {},
   "outputs": [],
   "source": [
    "model = VAE(in_channel=1)"
   ]
  },
  {
   "cell_type": "code",
   "execution_count": 43,
   "metadata": {},
   "outputs": [],
   "source": [
    "encode, mu, sigma, z, decode = model(next(iter(data_loader))[0][0].unsqueeze(0))"
   ]
  },
  {
   "cell_type": "code",
   "execution_count": 46,
   "metadata": {},
   "outputs": [
    {
     "data": {
      "text/plain": [
       "<matplotlib.image.AxesImage at 0x150cc3760>"
      ]
     },
     "execution_count": 46,
     "metadata": {},
     "output_type": "execute_result"
    },
    {
     "data": {
      "image/png": "[encoded data removed]",
      "text/plain": [
       "<Figure size 640x480 with 1 Axes>"
      ]
     },
     "metadata": {},
     "output_type": "display_data"
    }
   ],
   "source": [
    "plt.imshow(decode.squeeze().detach(), cmap='gray')"
   ]
  },
  {
   "cell_type": "code",
   "execution_count": null,
   "metadata": {},
   "outputs": [],
   "source": []
  }
 ],
 "metadata": {
  "kernelspec": {
   "display_name": "Python 3",
   "language": "python",
   "name": "python3"
  },
  "language_info": {
   "codemirror_mode": {
    "name": "ipython",
    "version": 3
   },
   "file_extension": ".py",
   "mimetype": "text/x-python",
   "name": "python",
   "nbconvert_exporter": "python",
   "pygments_lexer": "ipython3",
   "version": "3.10.8"
  }
 },
 "nbformat": 4,
 "nbformat_minor": 2
}
